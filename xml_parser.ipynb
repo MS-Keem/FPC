{
 "cells": [
  {
   "cell_type": "code",
   "execution_count": 49,
   "metadata": {},
   "outputs": [
    {
     "name": "stdout",
     "output_type": "stream",
     "text": [
      "[110, 74, 192, 148]\n",
      "['xmin', 'ymin', 'xmax', 'ymax']\n",
      "(640, 640)\n"
     ]
    }
   ],
   "source": [
    "import xml.etree.ElementTree as ET\n",
    "\n",
    "def min_max_value():\n",
    "\n",
    "    filePath = \"./sample.xml\"\n",
    "    tree = ET.parse(filePath)\n",
    "    root = tree.getroot()\n",
    "\n",
    "    str_value=[]\n",
    "    value=[]\n",
    "\n",
    "    for x in root:\n",
    "        for y in x:\n",
    "            for z in y:\n",
    "                str_value.append(z.tag)\n",
    "                value.append(z.text)\n",
    "            \n",
    "    value = [int(i) for i in value]\n",
    "\n",
    "    print(value)\n",
    "    print(str_value)\n",
    "    \n",
    "    return value[0], value[1], value[2], value[3]"
   ]
  },
  {
   "cell_type": "code",
   "execution_count": null,
   "metadata": {},
   "outputs": [],
   "source": []
  }
 ],
 "metadata": {
  "kernelspec": {
   "display_name": "Python [conda env:test_torch_37] *",
   "language": "python",
   "name": "conda-env-test_torch_37-py"
  },
  "language_info": {
   "codemirror_mode": {
    "name": "ipython",
    "version": 3
   },
   "file_extension": ".py",
   "mimetype": "text/x-python",
   "name": "python",
   "nbconvert_exporter": "python",
   "pygments_lexer": "ipython3",
   "version": "3.7.7"
  }
 },
 "nbformat": 4,
 "nbformat_minor": 5
}
